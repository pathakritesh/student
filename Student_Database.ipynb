{
 "cells": [
  {
   "cell_type": "code",
   "execution_count": 22,
   "metadata": {
    "scrolled": true
   },
   "outputs": [
    {
     "name": "stdout",
     "output_type": "stream",
     "text": [
      "Please Enter First Name: a\n",
      "Please Enter Last Name: a\n",
      "Please Enter Father Name: a\n",
      "Please Enter Date of Birth: a\n",
      "Please Enter Email Address: a\n",
      "Please Enter Roll Number: a\n",
      "['a', 'a', 'a', 'a', 'a', 'a']\n"
     ]
    }
   ],
   "source": [
    "# User input \n",
    "\n",
    "First_Name = input('Please Enter First Name: ')\n",
    "Last_Name = input('Please Enter Last Name: ')\n",
    "Father_Name = input('Please Enter Father Name: ')\n",
    "Date_of_Birth = input('Please Enter Date of Birth: ')\n",
    "Email_Address = input('Please Enter Email Address: ')\n",
    "Roll_Number = input('Please Enter Roll Number: ')\n",
    "\n",
    "data =[First_Name,Last_Name,Father_Name,Date_of_Birth,Email_Address,Roll_Number]\n",
    "\n",
    "#print(First_Name)\n",
    "#print(Last_Name)\n",
    "#print(Father_Name)\n",
    "#print(Date_of_Birth)\n",
    "#print(Email_Address)\n",
    "#print(Roll_Number)\n",
    "\n",
    "print(data)"
   ]
  },
  {
   "cell_type": "code",
   "execution_count": 4,
   "metadata": {},
   "outputs": [
    {
     "name": "stdout",
     "output_type": "stream",
     "text": [
      "Please Enter First Name: ritesh\n",
      "Please Enter Last Name: pathak\n",
      "Please Enter Father Name: abinash\n",
      "Please Enter Date of Birth: pathak\n",
      "Please Enter Email Address: 15071993\n",
      "Please Enter Roll Number: 001\n",
      "ritesh\n",
      "pathak\n",
      "abinash\n",
      "pathak\n",
      "15071993\n",
      "001\n"
     ]
    }
   ],
   "source": [
    "#uses function\n",
    "\n",
    "def student():\n",
    "    First_Name = input('Please Enter First Name: ')\n",
    "    Last_Name = input('Please Enter Last Name: ')\n",
    "    Father_Name = input('Please Enter Father Name: ')\n",
    "    Date_of_Birth = input('Please Enter Date of Birth: ')\n",
    "    Email_Address = input('Please Enter Email Address: ')\n",
    "    Roll_Number = input('Please Enter Roll Number: ')\n",
    "\n",
    "    print(First_Name)\n",
    "    print(Last_Name)\n",
    "    print(Father_Name)\n",
    "    print(Date_of_Birth)\n",
    "    print(Email_Address)\n",
    "    print(Roll_Number)\n",
    "\n",
    "student()"
   ]
  },
  {
   "cell_type": "code",
   "execution_count": 6,
   "metadata": {
    "scrolled": true
   },
   "outputs": [
    {
     "name": "stdout",
     "output_type": "stream",
     "text": [
      "{'first_name': 'john', 'last_name': 'smith', 'father_name': 'frank smith', 'date_birth': 1990, 'email': 'john@etc.in', 'roll_number': '001'}\n"
     ]
    }
   ],
   "source": [
    "# using class for student base\n",
    "class student():\n",
    "    def __init__(self,first_name,last_name,father_name,date_birth,email,roll_number):\n",
    "        self.first_name = first_name\n",
    "        self.last_name = last_name\n",
    "        self.father_name = father_name\n",
    "        self.date_birth = date_birth\n",
    "        self.email = email\n",
    "        self.roll_number = roll_number\n",
    "        \n",
    "student1 = student('john','smith','frank smith',1990,'john@etc.in','001')\n",
    "print(student1.__dict__)"
   ]
  },
  {
   "cell_type": "code",
   "execution_count": 14,
   "metadata": {},
   "outputs": [
    {
     "name": "stdout",
     "output_type": "stream",
     "text": [
      "Please Enter First Name: a\n",
      "Please Enter Last Name: a\n",
      "Please Enter Father Name: a\n",
      "Please Enter Date of Birth: a\n",
      "Please Enter Email Address: a\n",
      "Please Enter Roll Number: a\n",
      "Your First Name Is:  ritesh\n",
      "Your Last Name Is:  pathak\n",
      "Your Father Name Is:  abinash\n",
      "Your Date of birth Name Is:  15071993\n",
      "Your Email Address Is:  errit\n",
      "Your Roll Number Name Is:  001\n"
     ]
    }
   ],
   "source": [
    "def student():\n",
    "    f_name = input('Please Enter First Name: ')\n",
    "    l_name = input('Please Enter Last Name: ')\n",
    "    fs_name = input('Please Enter Father Name: ')\n",
    "    dob = input('Please Enter Date of Birth: ')\n",
    "    email = input('Please Enter Email Address: ')\n",
    "    r_number = input('Please Enter Roll Number: ')\n",
    "    \n",
    "    first_name = f_name \n",
    "    last_name = l_name\n",
    "    father_name = fs_name\n",
    "    date_of_birth = dob\n",
    "    email_address = email\n",
    "    roll_number = r_number\n",
    "\n",
    "    print('Your First Name Is: ',First_Name)\n",
    "    print('Your Last Name Is: ',Last_Name)\n",
    "    print('Your Father Name Is: ',Father_Name)\n",
    "    print('Your Date of birth Name Is: ',Date_of_Birth)\n",
    "    print('Your Email Address Is: ',Email_Address)\n",
    "    print('Your Roll Number Name Is: ',Roll_Number)\n",
    "    \n",
    "\n",
    "student()\n"
   ]
  },
  {
   "cell_type": "code",
   "execution_count": 17,
   "metadata": {},
   "outputs": [
    {
     "name": "stdout",
     "output_type": "stream",
     "text": [
      "Enter First Name: ritesh\n",
      "Enter Last Name: pathak\n",
      "Enter Father Name: ap\n",
      "Enter Date of Birth: 93\n",
      "Enter Email Address: r\n",
      "Enter Roll Number: 4\n"
     ]
    },
    {
     "ename": "TypeError",
     "evalue": "'type' object is not subscriptable",
     "output_type": "error",
     "traceback": [
      "\u001b[1;31m---------------------------------------------------------------------------\u001b[0m",
      "\u001b[1;31mTypeError\u001b[0m                                 Traceback (most recent call last)",
      "\u001b[1;32m<ipython-input-17-32a6d4b087c6>\u001b[0m in \u001b[0;36m<module>\u001b[1;34m\u001b[0m\n\u001b[0;32m     17\u001b[0m \u001b[1;33m\u001b[0m\u001b[0m\n\u001b[0;32m     18\u001b[0m \u001b[1;33m\u001b[0m\u001b[0m\n\u001b[1;32m---> 19\u001b[1;33m \u001b[0mstudent\u001b[0m\u001b[1;33m(\u001b[0m\u001b[1;33m)\u001b[0m\u001b[1;33m\u001b[0m\u001b[1;33m\u001b[0m\u001b[0m\n\u001b[0m",
      "\u001b[1;32m<ipython-input-17-32a6d4b087c6>\u001b[0m in \u001b[0;36mstudent\u001b[1;34m()\u001b[0m\n\u001b[0;32m      7\u001b[0m     \u001b[0mr_number\u001b[0m \u001b[1;33m=\u001b[0m \u001b[0minput\u001b[0m\u001b[1;33m(\u001b[0m\u001b[1;34m'Enter Roll Number: '\u001b[0m\u001b[1;33m)\u001b[0m\u001b[1;33m\u001b[0m\u001b[1;33m\u001b[0m\u001b[0m\n\u001b[0;32m      8\u001b[0m \u001b[1;33m\u001b[0m\u001b[0m\n\u001b[1;32m----> 9\u001b[1;33m     \u001b[0mdata\u001b[0m \u001b[1;33m=\u001b[0m \u001b[0mlist\u001b[0m\u001b[1;33m[\u001b[0m\u001b[0mf_name\u001b[0m\u001b[1;33m,\u001b[0m\u001b[0ml_name\u001b[0m\u001b[1;33m,\u001b[0m\u001b[0mfs_name\u001b[0m\u001b[1;33m,\u001b[0m\u001b[0mdob\u001b[0m\u001b[1;33m,\u001b[0m\u001b[0memail\u001b[0m\u001b[1;33m,\u001b[0m\u001b[0mr_number\u001b[0m\u001b[1;33m]\u001b[0m\u001b[1;33m\u001b[0m\u001b[1;33m\u001b[0m\u001b[0m\n\u001b[0m\u001b[0;32m     10\u001b[0m \u001b[1;33m\u001b[0m\u001b[0m\n\u001b[0;32m     11\u001b[0m     \u001b[0mprint\u001b[0m\u001b[1;33m(\u001b[0m\u001b[1;34m'Your First Name Is: '\u001b[0m\u001b[1;33m,\u001b[0m\u001b[0mf_name\u001b[0m\u001b[1;33m)\u001b[0m\u001b[1;33m\u001b[0m\u001b[1;33m\u001b[0m\u001b[0m\n",
      "\u001b[1;31mTypeError\u001b[0m: 'type' object is not subscriptable"
     ]
    }
   ],
   "source": [
    "def student():\n",
    "    f_name = input('Enter First Name: ')\n",
    "    l_name = input('Enter Last Name: ')\n",
    "    fs_name = input('Enter Father Name: ')\n",
    "    dob = input('Enter Date of Birth: ')\n",
    "    email = input('Enter Email Address: ')\n",
    "    r_number = input('Enter Roll Number: ')\n",
    "\n",
    "    \n",
    "    \n",
    "    print('Your First Name Is: ',f_name)\n",
    "    print('Your Last Name Is: ',l_name)\n",
    "    print('Your Father Name Is: ',fs_name)\n",
    "    print('Your Date of birth Name Is: ',dob)\n",
    "    print('Your Email Address Is: ',email)\n",
    "    print('Your Roll Number Name Is: ',r_number)\n",
    "    \n",
    "\n",
    "student()"
   ]
  },
  {
   "cell_type": "code",
   "execution_count": 16,
   "metadata": {},
   "outputs": [
    {
     "name": "stdout",
     "output_type": "stream",
     "text": [
      "john@etc.in\n"
     ]
    }
   ],
   "source": [
    "# using class for student base\n",
    "class student():\n",
    "    def __init__(self,first_name,last_name,father_name,date_birth,email,roll_number):\n",
    "        self.first_name = first_name\n",
    "        self.last_name = last_name\n",
    "        self.father_name = father_name\n",
    "        self.date_birth = date_birth\n",
    "        self.email = email\n",
    "        self.roll_number = roll_number\n",
    "        \n",
    "student1 = student('john','smith','frank smith',1990,'john@etc.in','001')\n",
    "print(student1.email)"
   ]
  },
  {
   "cell_type": "code",
   "execution_count": null,
   "metadata": {},
   "outputs": [],
   "source": []
  }
 ],
 "metadata": {
  "kernelspec": {
   "display_name": "Python 3",
   "language": "python",
   "name": "python3"
  },
  "language_info": {
   "codemirror_mode": {
    "name": "ipython",
    "version": 3
   },
   "file_extension": ".py",
   "mimetype": "text/x-python",
   "name": "python",
   "nbconvert_exporter": "python",
   "pygments_lexer": "ipython3",
   "version": "3.7.3"
  }
 },
 "nbformat": 4,
 "nbformat_minor": 2
}
